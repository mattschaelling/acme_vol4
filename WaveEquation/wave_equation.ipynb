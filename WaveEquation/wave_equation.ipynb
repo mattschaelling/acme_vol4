{
 "cells": [
  {
   "cell_type": "code",
   "execution_count": 1,
   "metadata": {
    "collapsed": true
   },
   "outputs": [],
   "source": [
    "import numpy as np\n",
    "from matplotlib import animation, pyplot as plt"
   ]
  },
  {
   "cell_type": "code",
   "execution_count": 5,
   "metadata": {},
   "outputs": [
    {
     "name": "stdout",
     "output_type": "stream",
     "text": [
      "Using matplotlib backend: Qt5Agg\n"
     ]
    }
   ],
   "source": [
    "%matplotlib\n",
    "\n",
    "def plot_a_pde(U,ylim):\n",
    "    # Make the x and y data.\n",
    "    y = U[:,0]\n",
    "    # Initialize a matplotlib figure.\n",
    "    f = plt.figure()\n",
    "    # Set the x and y axes by constructing an axes object.\n",
    "    plt.axes(xlim=(0,1), ylim=ylim)\n",
    "    # Plot an empty line to use in the animation.\n",
    "    # Notice that we are unpacking a tuple of length 1.\n",
    "    line, = plt.plot([], [])\n",
    "    # Define an animation function that will update the line to\n",
    "    # reflect the desired data for the i'th frame.\n",
    "    def animate(i):\n",
    "        # Set the data for updated version of the line.\n",
    "        line.set_data(x,U[:,i])\n",
    "        # Notice that this returns a tuple of length 1.\n",
    "        return line,\n",
    "    # Create the animation object.\n",
    "    # 'frames' is the number of frames before the animation should repeat.\n",
    "    # 'interval' is the amount of time to wait before updating the plot.\n",
    "    # Be sure to assign the animation a name so that Python does not\n",
    "    # immediately garbage collect (delete) the object.\n",
    "    a = animation.FuncAnimation(f, animate, frames=t.shape[0], interval=50)\n",
    "    # Show the animation.\n",
    "    plt.show()\n",
    "    return a"
   ]
  },
  {
   "cell_type": "markdown",
   "metadata": {
    "collapsed": true
   },
   "source": [
    "# Problem 1"
   ]
  },
  {
   "cell_type": "code",
   "execution_count": 16,
   "metadata": {},
   "outputs": [
    {
     "data": {
      "text/plain": [
       "<matplotlib.animation.FuncAnimation at 0x7f20f21d39e8>"
      ]
     },
     "execution_count": 16,
     "metadata": {},
     "output_type": "execute_result"
    }
   ],
   "source": [
    "# utt = uxx\n",
    "# u(0,t) = u(1,t) = 0\n",
    "# u(x,0) = sin(2*pi*x)\n",
    "# ut(x,0) = 0\n",
    "# numerically approximate for t in [0,.5].\n",
    "# Subintervals: J=50 in x dim, M=50 in t dim\n",
    "\n",
    "s = 1\n",
    "f = lambda x: np.sin(2*np.pi*x)\n",
    "fpp = lambda x: -4*np.pi**2*np.sin(2*np.pi*x)\n",
    "g = lambda x: np.zeros_like(x)\n",
    "x = np.linspace(0,1, 51)\n",
    "t = np.linspace(0,.5,51)\n",
    "dx = x[1] - x[0]\n",
    "dt = t[1] - t[0]\n",
    "lmbda = s*dt/dx\n",
    "U = np.zeros((len(x), len(t)))\n",
    "U[:,0] = f(x)\n",
    "U[:,1] = U[:,0] + g(x)*dt + s**2 * fpp(x) * dt**2 / 2\n",
    "#U[:,2] = 2*(1-lmbda**2)*U[:,1] + lmda**2*(np.pad(U[1:,1], (0,1), 'constant') + np.pad(U[:-1,1], (1,0), 'constant'))\n",
    "for m in range(3,len(t)):\n",
    "    U[:,m] = 2*(1-lmbda**2)*U[:,m-1] + lmbda**2*(np.pad(U[1:,m-1], (0,1), 'constant') + np.pad(U[:-1,m-1], (1,0), 'constant')) - U[:,m-2]\n",
    "    \n",
    "plot_a_pde(U, (-16,16))\n",
    "\n",
    "xx,tt = np.meshgrid(x,t)\n",
    "U = np.sin(2*np.pi*xx)*np.cos(2*np.pi*tt)\n",
    "plot_a_pde(U, (-16,16))\n"
   ]
  },
  {
   "cell_type": "markdown",
   "metadata": {},
   "source": [
    "# Problem 2"
   ]
  },
  {
   "cell_type": "code",
   "execution_count": 13,
   "metadata": {},
   "outputs": [
    {
     "name": "stdout",
     "output_type": "stream",
     "text": [
      "Using matplotlib backend: Qt5Agg\n"
     ]
    }
   ],
   "source": [
    "# utt = uxx\n",
    "# u(0,t) = u(1,t) = 0\n",
    "# u(x,0) = sin(2*pi*x)\n",
    "# ut(x,0) = 0\n",
    "# numerically approximate for t in [0,.5].\n",
    "# Subintervals: J=50 in x dim, M=50 in t dim\n",
    "\n",
    "m = 20\n",
    "s = 1\n",
    "f = lambda x: .2*np.exp(-m**2 * (x - .5)**2)\n",
    "fpp = lambda x: -.4*m**2 * (x-.5)*np.exp(-m**2*(x - .5)**2)\n",
    "g = lambda x: .4*m**2 * (x-.5)*np.exp(-m**2*(x - .5)**2)\n",
    "\n",
    "%matplotlib\n",
    "for X,T in [(201,221),(201,181)]:\n",
    "    x = np.linspace(0,1, X)\n",
    "    t = np.linspace(0,1,T)\n",
    "    dx = x[1] - x[0]\n",
    "    dt = t[1] - t[0]\n",
    "    lmbda = s*dt/dx\n",
    "    U = np.zeros((len(x), len(t)))\n",
    "    U[:,0] = f(x)\n",
    "    U[:,1] = U[:,0] + g(x)*dt + s**2 * fpp(x) * dt**2 / 2\n",
    "    #U[:,2] = 2*(1-lmbda**2)*U[:,1] + lmda**2*(np.pad(U[1:,1], (0,1), 'constant') + np.pad(U[:-1,1], (1,0), 'constant'))\n",
    "    for m in range(3,len(t)):\n",
    "        U[:,m] = 2*(1-lmbda**2)*U[:,m-1] + lmbda**2*(np.pad(U[1:,m-1], (0,1), 'constant') + np.pad(U[:-1,m-1], (1,0), 'constant')) - U[:,m-2]\n",
    "    #print(U.max(), U.min())\n",
    "    plot_a_pde(U, (-1,1))"
   ]
  },
  {
   "cell_type": "code",
   "execution_count": 10,
   "metadata": {},
   "outputs": [
    {
     "data": {
      "image/png": "[encoded data removed]",
      "text/plain": [
       "<matplotlib.figure.Figure at 0x7f20f26a2710>"
      ]
     },
     "metadata": {},
     "output_type": "display_data"
    }
   ],
   "source": [
    "%matplotlib inline\n",
    "plt.plot(x,f(x))\n",
    "plt.ylim((-1,1))\n",
    "plt.show()"
   ]
  },
  {
   "cell_type": "code",
   "execution_count": null,
   "metadata": {
    "collapsed": true
   },
   "outputs": [],
   "source": []
  },
  {
   "cell_type": "code",
   "execution_count": null,
   "metadata": {
    "collapsed": true
   },
   "outputs": [],
   "source": []
  }
 ],
 "metadata": {
  "kernelspec": {
   "display_name": "Python 3",
   "language": "python",
   "name": "python3"
  },
  "language_info": {
   "codemirror_mode": {
    "name": "ipython",
    "version": 3
   },
   "file_extension": ".py",
   "mimetype": "text/x-python",
   "name": "python",
   "nbconvert_exporter": "python",
   "pygments_lexer": "ipython3",
   "version": "3.6.1"
  }
 },
 "nbformat": 4,
 "nbformat_minor": 2
}
