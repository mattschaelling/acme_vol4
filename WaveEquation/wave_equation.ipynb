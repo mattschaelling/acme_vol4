{
 "cells": [
  {
   "cell_type": "code",
   "execution_count": 7,
   "metadata": {
    "collapsed": true
   },
   "outputs": [],
   "source": [
    "import numpy as np\n",
    "from matplotlib import animation, pyplot as plt\n",
    "from scipy.optimize import fsolve"
   ]
  },
  {
   "cell_type": "code",
   "execution_count": 16,
   "metadata": {},
   "outputs": [],
   "source": [
    "# %matplotlib\n",
    "plt.switch_backend('qt5agg')\n",
    "\n",
    "def plot_a_pde(U,ylim, domain):\n",
    "    # Initialize a matplotlib figure.\n",
    "    f = plt.figure()\n",
    "    # Set the x and y axes by constructing an axes object.\n",
    "    plt.axes(xlim=(domain[0],domain[-1]), ylim=ylim)\n",
    "    # Plot an empty line to use in the animation.\n",
    "    # Notice that we are unpacking a tuple of length 1.\n",
    "    line, = plt.plot([], [])\n",
    "    # Define an animation function that will update the line to\n",
    "    # reflect the desired data for the i'th frame.\n",
    "    def animate(i):\n",
    "        # Set the data for updated version of the line.\n",
    "        line.set_data(domain,U[:,i])\n",
    "        # Notice that this returns a tuple of length 1.\n",
    "        return line,\n",
    "    # Create the animation object.\n",
    "    # 'frames' is the number of frames before the animation should repeat.\n",
    "    # 'interval' is the amount of time to wait before updating the plot.\n",
    "    # Be sure to assign the animation a name so that Python does not\n",
    "    # immediately garbage collect (delete) the object.\n",
    "    a = animation.FuncAnimation(f, animate, frames=U.shape[1], interval=50)\n",
    "    # Show the animation.\n",
    "    plt.show()"
   ]
  },
  {
   "cell_type": "markdown",
   "metadata": {
    "collapsed": true
   },
   "source": [
    "# Problem 1"
   ]
  },
  {
   "cell_type": "code",
   "execution_count": 3,
   "metadata": {},
   "outputs": [],
   "source": [
    "# utt = uxx\n",
    "# u(0,t) = u(1,t) = 0\n",
    "# u(x,0) = sin(2*pi*x)\n",
    "# ut(x,0) = 0\n",
    "# numerically approximate for t in [0,.5].\n",
    "# Subintervals: J=50 in x dim, M=50 in t dim\n",
    "\n",
    "s = 1\n",
    "f = lambda x: np.sin(2*np.pi*x)\n",
    "fpp = lambda x: -4*np.pi**2*np.sin(2*np.pi*x)\n",
    "g = lambda x: np.zeros_like(x)\n",
    "x = np.linspace(0,1, 51)\n",
    "t = np.linspace(0,.5,51)\n",
    "dx = x[1] - x[0]\n",
    "dt = t[1] - t[0]\n",
    "lmbda = s*dt/dx\n",
    "U = np.zeros((len(x), len(t)))\n",
    "U[:,0] = f(x)\n",
    "U[:,1] = U[:,0] + g(x)*dt + s**2 * fpp(x) * dt**2 / 2\n",
    "U[0,1] = 0\n",
    "U[-1,1] = 0\n",
    "#U[:,2] = 2*(1-lmbda**2)*U[:,1] + lmda**2*(np.pad(U[1:,1], (0,1), 'constant') + np.pad(U[:-1,1], (1,0), 'constant'))\n",
    "for m in range(2,len(t)):\n",
    "    U[:,m] = 2*(1-lmbda**2)*U[:,m-1] + lmbda**2*(np.pad(U[1:,m-1], (0,1), 'constant') + np.pad(U[:-1,m-1], (1,0), 'constant')) - U[:,m-2]\n",
    "    U[0, m] = 0\n",
    "    U[-1,m] = 0\n",
    "    \n",
    "plt.switch_backend('qt5agg')\n",
    "plot_a_pde(U, (-1,1), x)"
   ]
  },
  {
   "cell_type": "markdown",
   "metadata": {},
   "source": [
    "# Problem 2"
   ]
  },
  {
   "cell_type": "code",
   "execution_count": 4,
   "metadata": {},
   "outputs": [],
   "source": [
    "# utt = uxx\n",
    "# u(0,t) = u(1,t) = 0\n",
    "# u(x,0) = sin(2*pi*x)\n",
    "# ut(x,0) = 0\n",
    "# numerically approximate for t in [0,.5].\n",
    "# Subintervals: J=50 in x dim, M=50 in t dim\n",
    "\n",
    "m = 20\n",
    "s = 1\n",
    "f = lambda x: .2*np.exp(-m**2 * (x - .5)**2)\n",
    "fpp = lambda x: -.4*m**2 * (x-.5)*np.exp(-m**2*(x - .5)**2)\n",
    "g = lambda x: .4*m**2 * (x-.5)*np.exp(-m**2*(x - .5)**2)\n",
    "\n",
    "# %matplotlib\n",
    "\n",
    "for X,T in [(201,221),(201,181)]:\n",
    "    x = np.linspace(0,1,X)\n",
    "    t = np.linspace(0,1,T)\n",
    "    dx = x[1] - x[0]\n",
    "    dt = t[1] - t[0]\n",
    "    lmbda = s*dt/dx\n",
    "    U = np.zeros((len(x), len(t)))\n",
    "    U[:,0] = f(x)\n",
    "    U[:,1] = U[:,0] + g(x)*dt + s**2 * fpp(x) * dt**2 / 2\n",
    "    U[0,1] = 0\n",
    "    U[-1,1] = 0\n",
    "    #U[:,2] = 2*(1-lmbda**2)*U[:,1] + lmda**2*(np.pad(U[1:,1], (0,1), 'constant') + np.pad(U[:-1,1], (1,0), 'constant'))\n",
    "    for m in range(2,len(t)):\n",
    "        U[:,m] = 2*(1-lmbda**2)*U[:,m-1] + lmbda**2*(np.pad(U[1:,m-1], (0,1), 'constant') + np.pad(U[:-1,m-1], (1,0), 'constant')) - U[:,m-2]\n",
    "        U[0, m] = 0\n",
    "        U[-1,m] = 0\n",
    "    #print(U.max(), U.min())\n",
    "    plt.switch_backend('qt5agg')\n",
    "    plot_a_pde(U, (-1,1), x)"
   ]
  },
  {
   "cell_type": "markdown",
   "metadata": {},
   "source": [
    "# Problem 3"
   ]
  },
  {
   "cell_type": "code",
   "execution_count": 5,
   "metadata": {
    "collapsed": true
   },
   "outputs": [],
   "source": [
    "# utt = uxx\n",
    "# u(0,t) = u(1,t) = 0\n",
    "# u(x,0) = .2*exp(-m^2(x-1/2)^2) where m=20\n",
    "# ut(x,0) = 0\n",
    "# numerically approximate for t in [0,2].\n",
    "# Subintervals: J=50 in x dim, M=50 in t dim\n",
    "\n",
    "s = 1\n",
    "m = 20\n",
    "f = lambda x: .2*np.exp(-m**2 * (x - .5)**2)\n",
    "fpp = lambda x: f(x)*(.8*m**4 * (.5-x)**2 - .4*m**2)\n",
    "g = lambda x: np.zeros_like(x)\n",
    "x = np.linspace(0,1, 201)\n",
    "t = np.linspace(0,2,441)\n",
    "dx = x[1] - x[0]\n",
    "dt = t[1] - t[0]\n",
    "lmbda = s*dt/dx\n",
    "U = np.zeros((len(x), len(t)))\n",
    "U[:,0] = f(x)\n",
    "U[:,1] = U[:,0] + g(x)*dt + s**2 * fpp(x) * dt**2 / 2\n",
    "U[0,1] = 0\n",
    "U[-1,1] = 0\n",
    "for m in range(2,len(t)):\n",
    "    U[:,m] = 2*(1-lmbda**2)*U[:,m-1] + lmbda**2*(np.pad(U[1:,m-1], (0,1), 'constant') + np.pad(U[:-1,m-1], (1,0), 'constant')) - U[:,m-2]\n",
    "    U[0, m] = 0\n",
    "    U[-1,m] = 0\n",
    "    \n",
    "plt.switch_backend('qt5agg')\n",
    "plot_a_pde(U, (-1,1), x)\n",
    "#plt.plot(x, U[:,40])"
   ]
  },
  {
   "cell_type": "markdown",
   "metadata": {},
   "source": [
    "# Problem 4"
   ]
  },
  {
   "cell_type": "code",
   "execution_count": 6,
   "metadata": {},
   "outputs": [],
   "source": [
    "# utt = uxx\n",
    "# u(0,t) = u(1,t) = 0\n",
    "# u(x,0) = .2*exp(-m^2(x-1/2)^2) where m=20\n",
    "# ut(x,0) = 0\n",
    "# numerically approximate for t in [0,2].\n",
    "# Subintervals: J=50 in x dim, M=50 in t dim\n",
    "\n",
    "s = 1\n",
    "m = 20\n",
    "def f(x):\n",
    "    fx = []\n",
    "    for xi in x:\n",
    "        if xi < 6./11 and xi > 5./11:\n",
    "            fx.append(1./3)\n",
    "        else:\n",
    "            fx.append(0.)\n",
    "    return np.array(fx)\n",
    "fpp = lambda x: f(x)*(.8*m**4 * (.5-x)**2 - .4*m**2)\n",
    "g = lambda x: np.zeros_like(x)\n",
    "x = np.linspace(0,1, 201)\n",
    "t = np.linspace(0,2,441)\n",
    "dx = x[1] - x[0]\n",
    "dt = t[1] - t[0]\n",
    "lmbda = s*dt/dx\n",
    "U = np.zeros((len(x), len(t)))\n",
    "U[:,0] = f(x)\n",
    "U[1:-1,1] = U[1:-1,0] + g(x[1:-1])*dt + .5*lmbda**2 * (U[:-2,0] - 2*U[1:-1,0] + U[2:, 0])\n",
    "U[0,1] = 0\n",
    "U[-1,1] = 0\n",
    "for m in range(2,len(t)):\n",
    "    U[:,m] = 2*(1-lmbda**2)*U[:,m-1] + lmbda**2*(np.pad(U[1:,m-1], (0,1), 'constant') + np.pad(U[:-1,m-1], (1,0), 'constant')) - U[:,m-2]\n",
    "    U[0, m] = 0\n",
    "    U[-1,m] = 0\n",
    "    \n",
    "plt.switch_backend('qt5agg')\n",
    "plot_a_pde(U, (-1,1), x)\n",
    "#plt.plot(x, U[:,40])"
   ]
  },
  {
   "cell_type": "markdown",
   "metadata": {
    "collapsed": true
   },
   "source": [
    "# Problem 5"
   ]
  },
  {
   "cell_type": "code",
   "execution_count": 10,
   "metadata": {},
   "outputs": [],
   "source": [
    "# ut - s*ux + u*ux = uxx\n",
    "# u(x,0) = v(x)\n",
    "# f = uhat + v\n",
    "\n",
    "def traveling_wave_solver(f,s,uminus,uplus):\n",
    "    x = np.linspace(-20,20,151)\n",
    "    t = np.linspace(0,1,351)\n",
    "    dx = x[1] - x[0]\n",
    "    dt = t[1] - t[0]\n",
    "    U = np.zeros((len(x), len(t)))\n",
    "    U[1:-1,0] = f(x)[1:-1]\n",
    "    U[0,0] = uminus\n",
    "    U[-1,0] = uplus\n",
    "    \n",
    "    def root_function(Unp, Un):\n",
    "        k1 = .25*dt/dx\n",
    "        k2 = .5*dt/(dx**2)\n",
    "        vector = np.zeros(len(x))\n",
    "        vector[1:-1] =  k1*((s - Unp[1:-1])*(Unp[2:] - Unp[:-2]) \\\n",
    "                        + (s - Un[1:-1])*(Un[2:] - Un[:-2])) \\\n",
    "                        + k2*((Unp[2:]- 2*Unp[1:-1] + Unp[:-2]) \\\n",
    "                        + (Un[2:] - 2*Un[1:-1] + Un[:-2])) \\\n",
    "                        + Un[1:-1] - Unp[1:-1]\n",
    "        vector[0] = Unp[0] - uminus\n",
    "        vector[-1] = Unp[-1] - uplus\n",
    "        return vector\n",
    "    \n",
    "    for i in range(1, len(t)):\n",
    "        U[:, i] = fsolve(root_function, U[:, i-1], U[:, i-1])\n",
    "        \n",
    "    return U\n",
    "\n",
    "\n",
    "Uminus = 5\n",
    "Uplus = 1\n",
    "S = (Uminus + Uplus)*.5\n",
    "A = (Uminus - Uplus)*.5\n",
    "uhat = lambda x: S - A * np.tanh(A*x*.5)\n",
    "v = lambda x: 3.5*(np.sin(3*x) + 1)*(1./np.sqrt(2*np.pi))*np.exp(-x**2 * .5)\n",
    "F = lambda x: uhat(x) + v(x)\n",
    "\n",
    "U = traveling_wave_solver(F,S,Uminus,Uplus)"
   ]
  },
  {
   "cell_type": "code",
   "execution_count": 17,
   "metadata": {},
   "outputs": [],
   "source": [
    "plt.switch_backend('qt5agg')\n",
    "plot_a_pde(U, (0, 6), np.linspace(-20,20,151))"
   ]
  }
 ],
 "metadata": {
  "kernelspec": {
   "display_name": "Python 3",
   "language": "python",
   "name": "python3"
  },
  "language_info": {
   "codemirror_mode": {
    "name": "ipython",
    "version": 3
   },
   "file_extension": ".py",
   "mimetype": "text/x-python",
   "name": "python",
   "nbconvert_exporter": "python",
   "pygments_lexer": "ipython3",
   "version": "3.6.1"
  }
 },
 "nbformat": 4,
 "nbformat_minor": 2
}
