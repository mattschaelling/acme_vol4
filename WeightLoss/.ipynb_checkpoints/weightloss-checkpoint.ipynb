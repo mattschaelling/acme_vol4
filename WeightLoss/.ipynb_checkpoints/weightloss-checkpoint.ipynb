{
 "cells": [
  {
   "cell_type": "code",
   "execution_count": 2,
   "metadata": {},
   "outputs": [],
   "source": [
    "import numpy as np\n",
    "from scipy.integrate import ode\n",
    "import matplotlib.pyplot as plt"
   ]
  },
  {
   "cell_type": "markdown",
   "metadata": {},
   "source": [
    "# Problem 1"
   ]
  },
  {
   "cell_type": "code",
   "execution_count": null,
   "metadata": {
    "collapsed": true
   },
   "outputs": [],
   "source": [
    "def predator_prey(t, y, a, alpha, c, gamma):\n",
    "    '''\n",
    "    Parameters:\n",
    "    t: time variable\n",
    "    y: a tuple of length len(y0) representing current wolf\n",
    "       and rabbit populations at time t.\n",
    "    a, alpha, c, gamma: growth parameters. These are keyword\n",
    "       and can be of any length\n",
    "    \n",
    "    Return:\n",
    "    A tuple corresponding to the Predator-Prey model.\n",
    "    '''\n",
    "    pass"
   ]
  }
 ],
 "metadata": {
  "kernelspec": {
   "display_name": "Python 3",
   "language": "python",
   "name": "python3"
  },
  "language_info": {
   "codemirror_mode": {
    "name": "ipython",
    "version": 3
   },
   "file_extension": ".py",
   "mimetype": "text/x-python",
   "name": "python",
   "nbconvert_exporter": "python",
   "pygments_lexer": "ipython3",
   "version": "3.6.1"
  }
 },
 "nbformat": 4,
 "nbformat_minor": 2
}
