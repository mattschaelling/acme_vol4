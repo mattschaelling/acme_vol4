{
 "cells": [
  {
   "cell_type": "code",
   "execution_count": 1,
   "metadata": {
    "collapsed": true
   },
   "outputs": [],
   "source": [
    "import numpy as np\n",
    "from matplotlib import animation, pyplot as plt\n",
    "import scipy.linalg as la\n",
    "%matplotlib inline"
   ]
  },
  {
   "cell_type": "markdown",
   "metadata": {},
   "source": [
    "# Problem 1"
   ]
  },
  {
   "cell_type": "code",
   "execution_count": 2,
   "metadata": {
    "collapsed": true
   },
   "outputs": [],
   "source": [
    "# ut = .05 * uxx  for x and t in [0,1]\n",
    "# u(0,t) = 0, u(1,t) = 0\n",
    "# u(x,0) = 2max{.2 - |x - .5|, 0}\n",
    "# approximate the solution u(x,t) at time t=.4 by taking 6 subintervals\n",
    "# in the x dimension and 10 subintervals in time. The graph for U0 and U4\n",
    "# are given in figures 8.1 and 8.2\n",
    "\n",
    "# lambda = vk/h**2\n",
    "\n",
    "f = lambda x: np.array([2*np.max([.2 - np.abs(xi - .5), 0]) for xi in x])\n",
    "x = np.linspace(0,1,7)\n",
    "t = np.linspace(0,.4,11)\n",
    "k = t[1] - t[0]\n",
    "h = x[1] - x[0]\n",
    "v = .05\n",
    "lmbda = v*k/(h**2)\n",
    "U = np.zeros((11,7))\n",
    "U[0] = f(x)\n",
    "this_is_vectorized = np.array([lmbda, 1 - 2*lmbda, lmbda])\n",
    "for j in range(1,len(t)):\n",
    "    for i in range(1,len(x)-1):\n",
    "        U[j,i] = np.dot(this_is_vectorized, U[j-1, i-1:i+2])"
   ]
  },
  {
   "cell_type": "code",
   "execution_count": 3,
   "metadata": {},
   "outputs": [
    {
     "data": {
      "image/png": "[encoded data removed]",
      "text/plain": [
       "<matplotlib.figure.Figure at 0x7f7bc6098978>"
      ]
     },
     "metadata": {},
     "output_type": "display_data"
    }
   ],
   "source": [
    "plt.plot(x, U[0], '-ob', label=\"U [0]\")\n",
    "plt.plot(x, U[-1], '-ok', label=\"U [4]\")\n",
    "plt.ylim((-.1, .5))\n",
    "plt.legend()\n",
    "plt.title(\"U Function: Numerically Estimated\")\n",
    "plt.show()"
   ]
  },
  {
   "cell_type": "markdown",
   "metadata": {},
   "source": [
    "# Problem 2"
   ]
  },
  {
   "cell_type": "code",
   "execution_count": 5,
   "metadata": {},
   "outputs": [
    {
     "name": "stdout",
     "output_type": "stream",
     "text": [
      "Using matplotlib backend: Qt5Agg\n"
     ]
    },
    {
     "data": {
      "text/plain": [
       "<matplotlib.animation.FuncAnimation at 0x7f7bb1ba5b70>"
      ]
     },
     "execution_count": 5,
     "metadata": {},
     "output_type": "execute_result"
    }
   ],
   "source": [
    "%matplotlib\n",
    "\n",
    "f = lambda x: np.array([np.max([1 - xi**2, 0]) for xi in x])\n",
    "x = np.linspace(-12,12,141)\n",
    "t = np.linspace(0,1,71)\n",
    "k = t[1] - t[0]\n",
    "h = x[1] - x[0]\n",
    "v = 1.\n",
    "lmbda = v*k/(h**2)\n",
    "U = np.zeros((71,141))\n",
    "U[0] = f(x)\n",
    "this_is_vectorized = np.array([lmbda, 1 - 2*lmbda, lmbda])\n",
    "for j in range(1,len(t)):\n",
    "    for i in range(1,len(x)-1):\n",
    "        U[j,i] = np.dot(this_is_vectorized, U[j-1, i-1:i+2])\n",
    "\n",
    "\n",
    "def plot_a_pde():\n",
    "    # Make the x and y data.\n",
    "    y = U[0]\n",
    "    # Initialize a matplotlib figure.\n",
    "    f = plt.figure()\n",
    "    # Set the x and y axes by constructing an axes object.\n",
    "    plt.axes(xlim=(-12,12), ylim=(-.1,1.1))\n",
    "    # Plot an empty line to use in the animation.\n",
    "    # Notice that we are unpacking a tuple of length 1.\n",
    "    line, = plt.plot([], [])\n",
    "    # Define an animation function that will update the line to\n",
    "    # reflect the desired data for the i'th frame.\n",
    "    def animate(i):\n",
    "        # Set the data for updated version of the line.\n",
    "        line.set_data(x,U[i])\n",
    "        # Notice that this returns a tuple of length 1.\n",
    "        return line,\n",
    "    # Create the animation object.\n",
    "    # 'frames' is the number of frames before the animation should repeat.\n",
    "    # 'interval' is the amount of time to wait before updating the plot.\n",
    "    # Be sure to assign the animation a name so that Python does not\n",
    "    # immediately garbage collect (delete) the object.\n",
    "    a = animation.FuncAnimation(f, animate, frames=t.shape[0], interval=50)\n",
    "    # Show the animation.\n",
    "    plt.show()\n",
    "    return a\n",
    "\n",
    "plot_a_pde()"
   ]
  },
  {
   "cell_type": "code",
   "execution_count": 6,
   "metadata": {},
   "outputs": [
    {
     "name": "stdout",
     "output_type": "stream",
     "text": [
      "Using matplotlib backend: Qt5Agg\n"
     ]
    },
    {
     "data": {
      "text/plain": [
       "<matplotlib.animation.FuncAnimation at 0x7f7bc34b9128>"
      ]
     },
     "execution_count": 6,
     "metadata": {},
     "output_type": "execute_result"
    }
   ],
   "source": [
    "%matplotlib\n",
    "\n",
    "f = lambda x: np.array([np.max([1 - xi**2, 0]) for xi in x])\n",
    "x = np.linspace(-12,12,141)\n",
    "t = np.linspace(0,1,67)\n",
    "k = t[1] - t[0]\n",
    "h = x[1] - x[0]\n",
    "v = 1.\n",
    "lmbda = v*k/(h**2)\n",
    "U = np.zeros((67,141))\n",
    "U[0] = f(x)\n",
    "this_is_vectorized = np.array([lmbda, 1 - 2*lmbda, lmbda])\n",
    "for j in range(1,len(t)):\n",
    "    for i in range(1,len(x)-1):\n",
    "        U[j,i] = np.dot(this_is_vectorized, U[j-1, i-1:i+2])\n",
    "\n",
    "\n",
    "def plot_a_pde():\n",
    "    # Make the x and y data.\n",
    "    y = U[0]\n",
    "    # Initialize a matplotlib figure.\n",
    "    f = plt.figure()\n",
    "    # Set the x and y axes by constructing an axes object.\n",
    "    plt.axes(xlim=(-12,12), ylim=(-.1,1.1))\n",
    "    # Plot an empty line to use in the animation.\n",
    "    # Notice that we are unpacking a tuple of length 1.\n",
    "    line, = plt.plot([], [])\n",
    "    # Define an animation function that will update the line to\n",
    "    # reflect the desired data for the i'th frame.\n",
    "    def animate(i):\n",
    "        # Set the data for updated version of the line.\n",
    "        line.set_data(x,U[i])\n",
    "        # Notice that this returns a tuple of length 1.\n",
    "        return line,\n",
    "    # Create the animation object.\n",
    "    # 'frames' is the number of frames before the animation should repeat.\n",
    "    # 'interval' is the amount of time to wait before updating the plot.\n",
    "    # Be sure to assign the animation a name so that Python does not\n",
    "    # immediately garbage collect (delete) the object.\n",
    "    a = animation.FuncAnimation(f, animate, frames=t.shape[0], interval=50)\n",
    "    # Show the animation.\n",
    "    plt.show()\n",
    "    return a\n",
    "\n",
    "plot_a_pde()"
   ]
  },
  {
   "cell_type": "markdown",
   "metadata": {},
   "source": [
    "# Problem 3"
   ]
  },
  {
   "cell_type": "code",
   "execution_count": 7,
   "metadata": {},
   "outputs": [],
   "source": [
    "%matplotlib inline\n",
    "u1_estimates = []\n",
    "steps = [20,40,80,160,320,640]\n",
    "K = []\n",
    "for step in steps:\n",
    "    f = lambda x: np.array([np.max([1 - xi**2, 0]) for xi in x])\n",
    "    x = np.linspace(-12,12,step+1)\n",
    "    t = np.linspace(0,1,step+1)\n",
    "    k = t[1] - t[0]\n",
    "    K.append(k)\n",
    "    h = x[1] - x[0]\n",
    "    v = 1.\n",
    "    lmbda = v*k/(h**2)\n",
    "    U = np.zeros((step+1,step+1))\n",
    "    U[0] = f(x)\n",
    "    \n",
    "    B = np.diag(np.ones(step+1)*(1 + 2*lmbda)) \\\n",
    "        + np.diag(np.ones(step)*(-lmbda), 1) \\\n",
    "        + np.diag(np.ones(step)*(-lmbda), -1)\n",
    "    A = np.diag(np.ones(step+1)*(1 - 2*lmbda)) \\\n",
    "        + np.diag(np.ones(step)*(lmbda), 1) \\\n",
    "        + np.diag(np.ones(step)*(lmbda), -1)\n",
    "    \n",
    "    for j in range(1,len(t)):\n",
    "        U[j] = la.solve(B, A.dot(U[j-1]))\n",
    "    u1_estimates.append(U[-1])"
   ]
  },
  {
   "cell_type": "code",
   "execution_count": 8,
   "metadata": {},
   "outputs": [
    {
     "data": {
      "image/png": "[encoded data removed]",
      "text/plain": [
       "<matplotlib.figure.Figure at 0x7f7bc34b9a90>"
      ]
     },
     "metadata": {},
     "output_type": "display_data"
    }
   ],
   "source": [
    "error = []\n",
    "for i in range(len(steps)-1):\n",
    "    error.append(la.norm(u1_estimates[i] - u1_estimates[-1][::int(steps[-1]/steps[i])], ord=np.inf))\n",
    "\n",
    "H = np.array([24/step for step in steps[:-1]])\n",
    "plt.loglog(H, H**2, 'r', label = \"h^2\")\n",
    "plt.loglog(H, error, '-ok', label = \"Error E(h)\")\n",
    "plt.xlim((1e-2, 1e1))\n",
    "plt.ylim((1e-4,1e1))\n",
    "plt.legend()\n",
    "plt.xlabel(\"h\")\n",
    "plt.show()"
   ]
  },
  {
   "cell_type": "code",
   "execution_count": null,
   "metadata": {
    "collapsed": true
   },
   "outputs": [],
   "source": []
  }
 ],
 "metadata": {
  "kernelspec": {
   "display_name": "Python 3",
   "language": "python",
   "name": "python3"
  },
  "language_info": {
   "codemirror_mode": {
    "name": "ipython",
    "version": 3
   },
   "file_extension": ".py",
   "mimetype": "text/x-python",
   "name": "python",
   "nbconvert_exporter": "python",
   "pygments_lexer": "ipython3",
   "version": "3.6.1"
  }
 },
 "nbformat": 4,
 "nbformat_minor": 2
}
