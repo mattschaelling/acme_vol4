{
 "cells": [
  {
   "cell_type": "code",
   "execution_count": 1,
   "metadata": {
    "collapsed": true
   },
   "outputs": [],
   "source": [
    "import numpy as np\n",
    "from matplotlib import animation, pyplot as plt"
   ]
  },
  {
   "cell_type": "markdown",
   "metadata": {},
   "source": [
    "# Problem 1"
   ]
  },
  {
   "cell_type": "code",
   "execution_count": 3,
   "metadata": {},
   "outputs": [],
   "source": [
    "# ut = .05 * uxx  for x and t in [0,1]\n",
    "# u(0,t) = 0, u(1,t) = 0\n",
    "# u(x,0) = 2max{.2 - |x - .5|, 0}\n",
    "# approximate the solution u(x,t) at time t=.4 by taking 6 subintervals\n",
    "# in the x dimension and 10 subintervals in time. The graph for U0 and U4\n",
    "# are given in figures 8.1 and 8.2\n",
    "\n",
    "# lambda = vk/h**2\n",
    "\n",
    "f = lambda x: np.array([2*np.max([.2 - np.abs(xi - .5), 0]) for xi in x])\n",
    "x = np.linspace(0,1,7)\n",
    "t = np.linspace(0,.4,11)\n",
    "k = t[1] - t[0]\n",
    "h = x[1] - x[0]\n",
    "v = .05\n",
    "lmbda = v*k/(h**2)\n",
    "U = np.zeros((11,7))\n",
    "U[0] = f(x)\n",
    "A = np.diag(np.ones(len()))\n",
    "for j in range(1,len(t)):\n",
    "    "
   ]
  },
  {
   "cell_type": "code",
   "execution_count": null,
   "metadata": {
    "collapsed": true
   },
   "outputs": [],
   "source": []
  }
 ],
 "metadata": {
  "kernelspec": {
   "display_name": "Python 3",
   "language": "python",
   "name": "python3"
  },
  "language_info": {
   "codemirror_mode": {
    "name": "ipython",
    "version": 3
   },
   "file_extension": ".py",
   "mimetype": "text/x-python",
   "name": "python",
   "nbconvert_exporter": "python",
   "pygments_lexer": "ipython3",
   "version": "3.6.1"
  }
 },
 "nbformat": 4,
 "nbformat_minor": 2
}
