{
 "cells": [
  {
   "cell_type": "code",
   "execution_count": 1,
   "metadata": {
    "collapsed": true
   },
   "outputs": [],
   "source": [
    "import numpy as np\n",
    "from scipy import optimize, integrate, linalg as la\n",
    "import matplotlib.pyplot as plt\n",
    "from matplotlib import rc\n",
    "#rc('text', usetex=True)"
   ]
  },
  {
   "cell_type": "markdown",
   "metadata": {},
   "source": [
    "# Problem 1"
   ]
  },
  {
   "cell_type": "code",
   "execution_count": 2,
   "metadata": {
    "collapsed": true
   },
   "outputs": [],
   "source": [
    "def linearized_init(M, m, l, q1, q2, q3, q4, r):\n",
    "    '''\n",
    "    Parameters:\n",
    "    ----------\n",
    "    M, m: floats\n",
    "        masses of the rickshaw and the present\n",
    "    l   : float\n",
    "        length of the rod\n",
    "    q1, q2, q3, q4, r : floats\n",
    "        relative weights of the position and velocity of the rickshaw,\n",
    "        the angular displacement theta and the change in theta, \n",
    "        and the control\n",
    "    \n",
    "    Return\n",
    "    -------\n",
    "    A : ndarray of shape (4,4)\n",
    "    B : ndarray of shape (4,1)\n",
    "    Q : ndarray of shape (4,4)\n",
    "    R : ndarray of shape (1,1)\n",
    "    '''\n",
    "    g = 9.8\n",
    "    A = np.array([[0,1,0,0],\n",
    "                  [0,0,m*g/M,0],\n",
    "                  [0,0,0,1],\n",
    "                  [0,0,(M+m)*g/(M*l),0]])\n",
    "    B = np.array([0,1./M,0,1./(M*l)])\n",
    "    Q = np.diag([q1,q2,q3,q4])\n",
    "    R = np.array([r])\n",
    "    return A,B,Q,R"
   ]
  },
  {
   "cell_type": "markdown",
   "metadata": {},
   "source": [
    "# Problem 2"
   ]
  },
  {
   "cell_type": "code",
   "execution_count": 3,
   "metadata": {
    "collapsed": true
   },
   "outputs": [],
   "source": [
    "def find_P(A, B, Q, R):\n",
    "    '''\n",
    "    Parameters:\n",
    "    ----------\n",
    "    A, Q    : ndarrays of shape (4,4)\n",
    "    B       : ndarray of shape (4,1)\n",
    "    R       : ndarray of shape (1,1)\n",
    "    Returns\n",
    "    -------\n",
    "    P       : the matrix solution of the Riccati equation\n",
    "    '''\n",
    "    def objective(p):\n",
    "        P = p.reshape((4,4))\n",
    "        return np.reshape(P@A + A.T@P + Q - np.outer(P@B,B.T@P)/R, 16)\n",
    "    return np.reshape(optimize.root(objective, \n",
    "                                    np.eye(4).reshape(16))['x'], \n",
    "                      (4,4))    "
   ]
  },
  {
   "cell_type": "code",
   "execution_count": 4,
   "metadata": {},
   "outputs": [
    {
     "name": "stdout",
     "output_type": "stream",
     "text": [
      "[-1.72875212+0.j          0.07538846+0.07490226j  0.07538846-0.07490226j\n",
      "  1.72530814+0.j        ]\n"
     ]
    }
   ],
   "source": [
    "A,B,Q,R = linearized_init(23.,5.,4.,1.,1.,1.,1.,10.)\n",
    "P0 = find_P(A,B,Q,R)\n",
    "print(la.eigvals(A - np.outer(B,B.T@P0)/R))"
   ]
  },
  {
   "cell_type": "markdown",
   "metadata": {},
   "source": [
    "Yes, one of the eigenvalues is both real and positive. Two others have real part positive. Only one of the eigenvaluse has negative real part."
   ]
  },
  {
   "cell_type": "code",
   "execution_count": 5,
   "metadata": {},
   "outputs": [
    {
     "name": "stdout",
     "output_type": "stream",
     "text": [
      "[-1.72875212+0.j         -1.72530814+0.j         -0.07538846+0.07490226j\n",
      " -0.07538846-0.07490226j]\n"
     ]
    }
   ],
   "source": [
    "P1 = la.solve_continuous_are(A,B.reshape((4,1)),Q,R)\n",
    "print(la.eigvals(A - np.outer(B,B.T@P1)/R))"
   ]
  },
  {
   "cell_type": "markdown",
   "metadata": {},
   "source": [
    "# Problem 3"
   ]
  },
  {
   "cell_type": "code",
   "execution_count": 6,
   "metadata": {
    "collapsed": true
   },
   "outputs": [],
   "source": [
    "def rickshaw(tv, X0, A, B, Q, R, P):\n",
    "    '''\n",
    "    Parameters:\n",
    "    ----------\n",
    "    tv  : ndarray of time values, with shape (n+1,)\n",
    "    X0  : Initial conditions on state variables\n",
    "    A, Q: ndarrays of shape (4,4)\n",
    "    B   : ndarray of shape (4,1)\n",
    "    R   : ndarray of shape (1,1)\n",
    "    P   : ndarray of shape (4,4)\n",
    "    Returns\n",
    "    -------\n",
    "    Z : ndarray of shape (n+1,4), the state vector at each time\n",
    "    U : ndarray of shape (n+1,), the control values\n",
    "    '''\n",
    "    def ode(z,t):\n",
    "        return (A - np.outer(B,B.T@P)/R).dot(z)\n",
    "    Z = integrate.odeint(ode, X0, tv)\n",
    "    #print(B.shape)\n",
    "    #print(P.shape)\n",
    "    #print(Z.shape)\n",
    "    U = -np.dot(B,P@Z.T)/R\n",
    "    return Z,U"
   ]
  },
  {
   "cell_type": "markdown",
   "metadata": {},
   "source": [
    "# Problem 4"
   ]
  },
  {
   "cell_type": "code",
   "execution_count": 7,
   "metadata": {
    "collapsed": true
   },
   "outputs": [],
   "source": [
    "A,B,Q,R = linearized_init(23.,5.,4.,1.,1.,1.,1.,10.)\n",
    "tv = None\n",
    "X0 = np.array([-1,-1,.1,-.2])\n",
    "P0 = find_P(A,B,Q,R)\n",
    "P1 = la.solve_continuous_are(A,B.reshape((4,1)),Q,R)"
   ]
  },
  {
   "cell_type": "code",
   "execution_count": 8,
   "metadata": {},
   "outputs": [
    {
     "data": {
      "image/png": "[encoded data removed]",
      "text/plain": [
       "<matplotlib.figure.Figure at 0x7f01b9da00b8>"
      ]
     },
     "metadata": {},
     "output_type": "display_data"
    }
   ],
   "source": [
    "t0 = np.linspace(0,6)\n",
    "Z0,U0 = rickshaw(t0,X0,A,B,Q,R,P0)\n",
    "plt.plot(t0, Z0[:,0],'g', label=r'x')\n",
    "plt.plot(t0, Z0[:,1],'r', label=r\"x'\")\n",
    "plt.plot(t0, Z0[:,2],'k', label=r'theta')\n",
    "plt.plot(t0, Z0[:,3],'b', label=r\"theta'\")\n",
    "plt.plot(t0, U0,'y', label=r'u')\n",
    "plt.legend()\n",
    "plt.xlim(0,6)\n",
    "plt.show()"
   ]
  },
  {
   "cell_type": "code",
   "execution_count": 9,
   "metadata": {},
   "outputs": [
    {
     "data": {
      "image/png": "[encoded data removed]",
      "text/plain": [
       "<matplotlib.figure.Figure at 0x7f01c0038be0>"
      ]
     },
     "metadata": {},
     "output_type": "display_data"
    }
   ],
   "source": [
    "t1 = np.linspace(0,60,300)\n",
    "Z1,U1 = rickshaw(t1,X0,A,B,Q,R,P1)\n",
    "plt.plot(t1, Z1[:,0],'g', label=r'x')\n",
    "plt.plot(t1, Z1[:,1],'r', label=r\"x'\")\n",
    "plt.plot(t1, Z1[:,2],'k', label=r'theta')\n",
    "plt.plot(t1, Z1[:,3],'b', label=r\"theta'\")\n",
    "plt.plot(t1, U1,'y', label=r'u')\n",
    "plt.legend()\n",
    "plt.ylim(-6,6)\n",
    "plt.xlim(0,60)\n",
    "plt.show()"
   ]
  },
  {
   "cell_type": "code",
   "execution_count": null,
   "metadata": {
    "collapsed": true
   },
   "outputs": [],
   "source": []
  }
 ],
 "metadata": {
  "kernelspec": {
   "display_name": "Python 3",
   "language": "python",
   "name": "python3"
  },
  "language_info": {
   "codemirror_mode": {
    "name": "ipython",
    "version": 3
   },
   "file_extension": ".py",
   "mimetype": "text/x-python",
   "name": "python",
   "nbconvert_exporter": "python",
   "pygments_lexer": "ipython3",
   "version": "3.6.1"
  }
 },
 "nbformat": 4,
 "nbformat_minor": 2
}
