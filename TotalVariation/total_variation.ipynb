{
 "cells": [
  {
   "cell_type": "code",
   "execution_count": 16,
   "metadata": {
    "collapsed": true
   },
   "outputs": [],
   "source": [
    "import numpy as np\n",
    "from scipy.misc import imread, imsave\n",
    "import matplotlib.pyplot as plt"
   ]
  },
  {
   "cell_type": "code",
   "execution_count": 8,
   "metadata": {},
   "outputs": [
    {
     "name": "stdout",
     "output_type": "stream",
     "text": [
      "Stability Condition: 0.08 <= .5, True\n"
     ]
    }
   ],
   "source": [
    "# Problem 1\n",
    "'''\n",
    "y(-1) = 1\n",
    "y(1) = 7\n",
    "u_t = -1 - y'^2 + y*y\", x in (a,b)\n",
    "u(x,0) = g(x)\n",
    "u(a,t) = y_a, u(b,t) = y_b\n",
    "'''\n",
    "a, b = -1, 1\n",
    "X = np.linspace(a, b, 21)\n",
    "dx = X[1] - X[0]\n",
    "T = np.linspace(0,.2,251)\n",
    "dt = T[1] - T[0]\n",
    "stability_condition = (dt)/((dx)**2)\n",
    "print('Stability Condition: {:.2f} <= .5, {}'.format(stability_condition, stability_condition<=.5))"
   ]
  },
  {
   "cell_type": "code",
   "execution_count": 17,
   "metadata": {},
   "outputs": [
    {
     "data": {
      "image/png": "[encoded data removed]",
      "text/plain": [
       "<matplotlib.figure.Figure at 0x7fc20cbaed30>"
      ]
     },
     "metadata": {},
     "output_type": "display_data"
    }
   ],
   "source": [
    "y0 = (lambda x: 4 + x*3)(X)\n",
    "y = y0\n",
    "yp = (np.roll(y,-1) - np.roll(y,1))[1:-1]/(2*dx)\n",
    "ypp = (np.roll(y,-1) - 2*y + np.roll(y,1))[1:-1]/(dx**2)\n",
    "yt = -1 - yp**2 + y[1:-1]*ypp\n",
    "\n",
    "for t in T:\n",
    "    y[1:-1] += dt*yt\n",
    "plt.plot(X,y0)\n",
    "plt.plot(X,y)\n",
    "plt.show()"
   ]
  },
  {
   "cell_type": "code",
   "execution_count": 14,
   "metadata": {},
   "outputs": [
    {
     "data": {
      "text/plain": [
       "(19,)"
      ]
     },
     "execution_count": 14,
     "metadata": {},
     "output_type": "execute_result"
    }
   ],
   "source": [
    "yt.shape"
   ]
  },
  {
   "cell_type": "code",
   "execution_count": null,
   "metadata": {
    "collapsed": true
   },
   "outputs": [],
   "source": []
  }
 ],
 "metadata": {
  "kernelspec": {
   "display_name": "Python 3",
   "language": "python",
   "name": "python3"
  },
  "language_info": {
   "codemirror_mode": {
    "name": "ipython",
    "version": 3
   },
   "file_extension": ".py",
   "mimetype": "text/x-python",
   "name": "python",
   "nbconvert_exporter": "python",
   "pygments_lexer": "ipython3",
   "version": "3.6.1"
  }
 },
 "nbformat": 4,
 "nbformat_minor": 2
}
