{
 "cells": [
  {
   "cell_type": "code",
   "execution_count": 17,
   "metadata": {
    "collapsed": true
   },
   "outputs": [],
   "source": [
    "import numpy as np\n",
    "from scipy.misc import imread, imsave\n",
    "import matplotlib.pyplot as plt\n",
    "import scipy.linalg as la\n",
    "\n",
    "plt.style.use('ggplot')"
   ]
  },
  {
   "cell_type": "code",
   "execution_count": 11,
   "metadata": {},
   "outputs": [
    {
     "name": "stdout",
     "output_type": "stream",
     "text": [
      "Stability Condition: 0.08 <= .5, True\n"
     ]
    }
   ],
   "source": [
    "# Problem 1\n",
    "'''\n",
    "y(-1) = 1\n",
    "y(1) = 7\n",
    "u_t = -1 - y'^2 + y*y\", x in (a,b)\n",
    "u(x,0) = g(x)\n",
    "u(a,t) = y_a, u(b,t) = y_b\n",
    "'''\n",
    "a, b = -1, 1\n",
    "X = np.linspace(a, b, 21)\n",
    "dx = X[1] - X[0]\n",
    "T = np.linspace(0,.2,251)\n",
    "dt = T[1] - T[0]\n",
    "stability_condition = (dt)/((dx)**2)\n",
    "print('Stability Condition: {:.2f} <= .5, {}'.format(stability_condition, stability_condition<=.5))"
   ]
  },
  {
   "cell_type": "code",
   "execution_count": 21,
   "metadata": {},
   "outputs": [
    {
     "data": {
      "image/png": "[encoded data removed]",
      "text/plain": [
       "<matplotlib.figure.Figure at 0x7ff92ccd2be0>"
      ]
     },
     "metadata": {},
     "output_type": "display_data"
    }
   ],
   "source": [
    "y0 = (lambda x: 4 + x*3)(X)\n",
    "y1 = y0.copy()\n",
    "y2 = y0.copy()\n",
    "yp = (np.roll(y2,-1) - np.roll(y2,1))[1:-1]/(2*dx)\n",
    "ypp = (np.roll(y2,-1) - 2*y2 + np.roll(y2,1))[1:-1]/(dx**2)\n",
    "yt = -1 - yp**2 + y2[1:-1]*ypp\n",
    "\n",
    "maxiter = len(T)\n",
    "\n",
    "for i in range(maxiter):\n",
    "    #print('y2: {}\\ny1: {}\\nyt: {}'.format(y2.shape,y1.shape,yt.shape))\n",
    "    y2[1:-1] = y1[1:-1] + dt*yt\n",
    "    if la.norm(y2-y1) < 1e-5:\n",
    "        print(\"Coverged after {} iterations.\".format(i))\n",
    "        break\n",
    "    yp = (np.roll(y2,-1) - np.roll(y2,1))[1:-1]/(2*dx)\n",
    "    ypp = (np.roll(y2,-1) - 2*y2 + np.roll(y2,1))[1:-1]/(dx**2)\n",
    "    yt = -1 - yp**2 + y2[1:-1]*ypp\n",
    "    y1 = y2.copy()\n",
    "    \n",
    "plt.plot(X,y0)\n",
    "plt.plot(X,y2)\n",
    "plt.xlabel('x')\n",
    "plt.ylabel('y')\n",
    "plt.show()"
   ]
  },
  {
   "cell_type": "code",
   "execution_count": 20,
   "metadata": {},
   "outputs": [
    {
     "name": "stderr",
     "output_type": "stream",
     "text": [
      "/usr/local/anaconda3/lib/python3.6/site-packages/ipykernel_launcher.py:8: DeprecationWarning: `imread` is deprecated!\n",
      "`imread` is deprecated in SciPy 1.0.0, and will be removed in 1.2.0.\n",
      "Use ``imageio.imread`` instead.\n",
      "  \n"
     ]
    }
   ],
   "source": [
    "# Problem 2\n",
    "\n",
    "imagename = 'balloons_bw.jpg'\n",
    "changed_pixels=40000\n",
    "# Read the image file imagename into an array of numbers, IM\n",
    "# Multiply by 1. / 255 to change the values so that they are floating point\n",
    "# numbers ranging from 0 to 1.\n",
    "IM = imread(imagename, flatten=True) * (1. / 255)\n",
    "IM_x, IM_y = IM.shape\n",
    "\n",
    "for lost in range(changed_pixels):\n",
    "    x_,y_ = np.random.randint(1,IM_x-2), np.random.randint(1,IM_y-2)\n",
    "    val = .1*np.random.randn() + .5\n",
    "    IM[x_,y_] = max( min(val,1.), 0.)"
   ]
  },
  {
   "cell_type": "code",
   "execution_count": null,
   "metadata": {
    "collapsed": true
   },
   "outputs": [],
   "source": [
    "dt = 1e-3\n",
    "lmbda = 40\n",
    "dx = 1\n",
    "dy = 1\n",
    "\n",
    "u0 = IM.copy()\n",
    "uxx = np.roll(u,-1,axis=1) - 2*u + np.roll(u,1,axis=1)\n",
    "uxx = uxx/(dx**2)\n",
    "uyy = np.roll(u,-1,axis=0) - 2*u + np.roll(u,1,axis=0)\n",
    "uyy = uyy/(dy**2)\n",
    "ut = -(u0 - IM - lmbda*(uxx+uyy))\n",
    "u1 = IM.copy()"
   ]
  }
 ],
 "metadata": {
  "kernelspec": {
   "display_name": "Python 3",
   "language": "python",
   "name": "python3"
  },
  "language_info": {
   "codemirror_mode": {
    "name": "ipython",
    "version": 3
   },
   "file_extension": ".py",
   "mimetype": "text/x-python",
   "name": "python",
   "nbconvert_exporter": "python",
   "pygments_lexer": "ipython3",
   "version": "3.6.1"
  }
 },
 "nbformat": 4,
 "nbformat_minor": 2
}
