{
 "cells": [
  {
   "cell_type": "code",
   "execution_count": 1,
   "metadata": {},
   "outputs": [],
   "source": [
    "import numpy as np\n",
    "from scipy import optimize as opt, linalg as la, interpolate, integrate\n",
    "import matplotlib.pyplot as plt"
   ]
  },
  {
   "cell_type": "markdown",
   "metadata": {},
   "source": [
    "# Problem 1"
   ]
  },
  {
   "cell_type": "code",
   "execution_count": 2,
   "metadata": {},
   "outputs": [],
   "source": [
    "c = lambda x: -.7*(x**2 - 1)\n",
    "alpha = lambda x: (1 - c(x)**2)**(-.5)\n",
    "\n",
    "def L(x,y,yp):\n",
    "    return alpha(x)*np.sqrt(1 + (alpha(x)*yp(x))**2) - alpha(x)**2*c(x)*yp(x)"
   ]
  },
  {
   "cell_type": "code",
   "execution_count": 3,
   "metadata": {},
   "outputs": [],
   "source": [
    "def T(y,yp):\n",
    "    return integrate.quad(L, -1, 1, args=(y, yp))[0]"
   ]
  },
  {
   "cell_type": "markdown",
   "metadata": {},
   "source": [
    "# Problem 2"
   ]
  },
  {
   "cell_type": "code",
   "execution_count": 4,
   "metadata": {},
   "outputs": [
    {
     "name": "stdout",
     "output_type": "stream",
     "text": [
      "Upper Bound:\t 3.8770820491384126\n"
     ]
    }
   ],
   "source": [
    "y = lambda x : (5/2)*(x+1)\n",
    "yp = lambda x: 5/2\n",
    "print(\"Upper Bound:\\t\", T(y,yp))"
   ]
  },
  {
   "cell_type": "markdown",
   "metadata": {},
   "source": [
    "$\\min_{[-1,1]}\\{\\sec x\\} = 1 \\quad \\Rightarrow \\quad \\int_{-1}^1\\sec \\theta(x)dx \\geq \\int_{-1}^{1}1dx = 2$\n",
    "\n",
    "Therefore 2 is a lower bound."
   ]
  },
  {
   "cell_type": "markdown",
   "metadata": {},
   "source": [
    "# Problem 3"
   ]
  },
  {
   "cell_type": "code",
   "execution_count": 5,
   "metadata": {},
   "outputs": [],
   "source": [
    "def cheb(N):\n",
    "    x = np.cos((np.pi/N)*np.linspace(0,N,N+1))\n",
    "    x.shape = (N+1,1)\n",
    "    lin = np.linspace(0,N,N+1)\n",
    "    lin.shape = (N+1,1)\n",
    "    \n",
    "    c = np.ones((N+1,1))\n",
    "    c[0], c[-1] = 2., 2.\n",
    "    c = c*(-1.)**lin\n",
    "    X = x*np.ones(N+1) # broadcast along 2nd dimension (columns)\n",
    "    \n",
    "    dX = X - X.T\n",
    "    \n",
    "    D = (c*(1./c).T)/(dX + np.eye(N+1))\n",
    "    D = D - np.diag(np.sum(D.T,axis=0))\n",
    "    x.shape = (N+1,)\n",
    "    # Here we return the differentiation matrix and the Chebyshev points,\n",
    "    # numbered from x_0 = 1 to x_N = -1\n",
    "    return D, x"
   ]
  },
  {
   "cell_type": "code",
   "execution_count": 7,
   "metadata": {},
   "outputs": [
    {
     "data": {
      "image/png": "[encoded data removed]",
      "text/plain": [
       "<matplotlib.figure.Figure at 0x22bd76b8b38>"
      ]
     },
     "metadata": {},
     "output_type": "display_data"
    }
   ],
   "source": [
    "N = 50\n",
    "D,x = cheb(N)\n",
    "\n",
    "# define equation to optimize\n",
    "def F(U):\n",
    "    c = lambda x: -.7 * (x**2 - 1)\n",
    "    alph = lambda x: 1/np.sqrt(1 - c(x)**2)\n",
    "    out = D @ ((alpha(x)**3 * (D@U)) * (1 + (alpha(x) * (D@U))**2)**(-.5) - (alpha(x)**2 * c(x)))\n",
    "    # Set boundary conditions\n",
    "    out[0] = U[0] - 5\n",
    "    out[-1] = U[-1]\n",
    "    return out\n",
    "\n",
    "y0 = lambda x: 5*(x+1)/2\n",
    "x0 = np.array(y0(x)) # initialize guess\n",
    "y = opt.root(F, x0)['x']\n",
    "domain = np.linspace(-1, 1, 100)\n",
    "interpolation = interpolate.barycentric_interpolate(x, y, domain)\n",
    "plt.plot(domain, interpolation)\n",
    "plt.show()"
   ]
  },
  {
   "cell_type": "markdown",
   "metadata": {},
   "source": [
    "# Problem 4"
   ]
  },
  {
   "cell_type": "code",
   "execution_count": 8,
   "metadata": {},
   "outputs": [],
   "source": [
    "def theta(phi):\n",
    "    return D@y - c(x)/np.cos(phi) - np.tan(phi)"
   ]
  },
  {
   "cell_type": "code",
   "execution_count": 9,
   "metadata": {},
   "outputs": [
    {
     "data": {
      "image/png": "[encoded data removed]",
      "text/plain": [
       "<matplotlib.figure.Figure at 0x22bd775dd30>"
      ]
     },
     "metadata": {},
     "output_type": "display_data"
    }
   ],
   "source": [
    "N = 50\n",
    "D,x = cheb(N)\n",
    "x0 = np.zeros(N+1)\n",
    "solution = opt.root(theta, x0)['x']\n",
    "plt.plot(x, solution)\n",
    "plt.ylim(0,np.pi/2)\n",
    "plt.show()"
   ]
  }
 ],
 "metadata": {
  "kernelspec": {
   "display_name": "Python 3",
   "language": "python",
   "name": "python3"
  },
  "language_info": {
   "codemirror_mode": {
    "name": "ipython",
    "version": 3
   },
   "file_extension": ".py",
   "mimetype": "text/x-python",
   "name": "python",
   "nbconvert_exporter": "python",
   "pygments_lexer": "ipython3",
   "version": "3.6.4"
  }
 },
 "nbformat": 4,
 "nbformat_minor": 2
}
