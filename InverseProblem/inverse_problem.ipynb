{
 "cells": [
  {
   "cell_type": "code",
   "execution_count": 1,
   "metadata": {
    "collapsed": false
   },
   "outputs": [],
   "source": [
    "import numpy as np\n",
    "from scipy import optimize\n",
    "from scipy.integrate import quad\n",
    "from matplotlib import pyplot as plt\n",
    "%matplotlib inline"
   ]
  },
  {
   "cell_type": "markdown",
   "metadata": {
    "collapsed": true
   },
   "source": [
    "# Problem 1"
   ]
  },
  {
   "cell_type": "code",
   "execution_count": 27,
   "metadata": {
    "collapsed": false
   },
   "outputs": [],
   "source": [
    "'''\n",
    "-(au')' = f\n",
    "a(0)u'(0) = c0\n",
    "a(1)u'(1) = c1\n",
    "\n",
    "integrate f from 0 to xj\n",
    "-3x^3 + 3/2 x^2 - x if xj <= .5\n",
    "\n",
    "'''\n",
    "\n",
    "# setup the problem\n",
    "c0 = 3./8\n",
    "c1 = 5./4\n",
    "U = lambda x: x**2 + .5*x + 5./16\n",
    "Up = lambda x: 2.*x + .5\n",
    "vectUp = np.vectorize(Up)\n",
    "X = np.linspace(0,1,11)\n",
    "h = .1\n",
    "f = lambda x: -6*x**2 + 3.*x - 1. if x <= .5 else -1\n",
    "\n",
    "# integrate using quad\n",
    "Quad = np.vectorize(lambda B: quad(f,a=0,b=B)[0])\n",
    "\n",
    "# make objective function\n",
    "objective = lambda a: np.sum(((c0 - Quad(X))/a - vectUp(X))**2)\n",
    "optA = optimize.minimize(objective, np.ones_like(X)*.1)['x']"
   ]
  },
  {
   "cell_type": "code",
   "execution_count": 31,
   "metadata": {
    "collapsed": false
   },
   "outputs": [
    {
     "data": {
      "image/png": "[encoded data removed]",
      "text/plain": [
       "<matplotlib.figure.Figure at 0xbe14208>"
      ]
     },
     "metadata": {},
     "output_type": "display_data"
    }
   ],
   "source": [
    "plt.plot(X, optA)\n",
    "plt.show()"
   ]
  },
  {
   "cell_type": "markdown",
   "metadata": {},
   "source": [
    "# Problem 2"
   ]
  },
  {
   "cell_type": "code",
   "execution_count": 6,
   "metadata": {
    "collapsed": false
   },
   "outputs": [
    {
     "data": {
      "image/png": "[encoded data removed]",
      "text/plain": [
       "<matplotlib.figure.Figure at 0xb9bba20>"
      ]
     },
     "metadata": {},
     "output_type": "display_data"
    }
   ],
   "source": [
    "'''\n",
    "-(au')' = f\n",
    "a(0)u'(0) = c0\n",
    "a(1)u'(1) = c1\n",
    "\n",
    "integrate f from 0 to xj\n",
    "-3x^3 + 3/2 x^2 - x if xj <= .5\n",
    "\n",
    "'''\n",
    "\n",
    "# set up the problem\n",
    "c0 = 1.\n",
    "c1 = 2.\n",
    "X = np.linspace(0,1,11)\n",
    "h = .1\n",
    "f = lambda x: -1*np.ones_like(x)\n",
    "\n",
    "# we evaluate the integral\n",
    "Quad = np.vectorize(lambda B: quad(f,a=0,b=B)[0])\n",
    "\n",
    "#iterate over values for epsilon\n",
    "for eps in [.67,.7,.8,.9]:\n",
    "    U = lambda x: x + 1 + eps*np.sin(x*eps**-2)\n",
    "    Up = lambda x: 1. + np.cos(x*eps**-2)/eps\n",
    "    vectUp = np.vectorize(Up)\n",
    "    objective = lambda a: np.sum(((c0 - Quad(X))/a - vectUp(X))**2)\n",
    "    optA = optimize.minimize(objective, np.ones_like(X))['x']\n",
    "    plt.plot(X,optA, label='epsilon={}'.format(eps))\n",
    "plt.legend(loc=2)\n",
    "plt.show()"
   ]
  },
  {
   "cell_type": "code",
   "execution_count": null,
   "metadata": {
    "collapsed": false
   },
   "outputs": [],
   "source": []
  },
  {
   "cell_type": "code",
   "execution_count": null,
   "metadata": {
    "collapsed": true
   },
   "outputs": [],
   "source": []
  }
 ],
 "metadata": {
  "anaconda-cloud": {},
  "kernelspec": {
   "display_name": "Python [Root]",
   "language": "python",
   "name": "Python [Root]"
  },
  "language_info": {
   "codemirror_mode": {
    "name": "ipython",
    "version": 2
   },
   "file_extension": ".py",
   "mimetype": "text/x-python",
   "name": "python",
   "nbconvert_exporter": "python",
   "pygments_lexer": "ipython2",
   "version": "2.7.14"
  }
 },
 "nbformat": 4,
 "nbformat_minor": 2
}
