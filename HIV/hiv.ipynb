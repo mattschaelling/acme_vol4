{
 "cells": [
  {
   "cell_type": "code",
   "execution_count": 1,
   "metadata": {},
   "outputs": [],
   "source": [
    "import numpy as np\n",
    "from matplotlib import pyplot as plt"
   ]
  },
  {
   "cell_type": "code",
   "execution_count": 2,
   "metadata": {},
   "outputs": [],
   "source": [
    "#Code from RK4 Lab with minor edits\n",
    "def initialize_all(y0, t0, t, n):\n",
    "    \"\"\" An initialization routine for the different ODE solving\n",
    "    methods in the lab. This initializes Y, T, and h. \"\"\"\n",
    "    if isinstance(y0, np.ndarray):\n",
    "        Y = np.empty((n, y0.size)).squeeze()\n",
    "    else:\n",
    "        Y = np.empty(n)\n",
    "    Y[0] = y0\n",
    "    T = np.linspace(t0, t, n)\n",
    "    h = float(t - t0) / (n - 1)\n",
    "    return Y, T, h"
   ]
  },
  {
   "cell_type": "code",
   "execution_count": 3,
   "metadata": {},
   "outputs": [],
   "source": [
    "def RK4(f, y0, t0, t, n):\n",
    "    \"\"\" Use the RK4 method to compute an approximate solution\n",
    "    to the ODE y' = f(t, y) at n equispaced parameter values from t0 to t\n",
    "    with initial conditions y(t0) = y0.\n",
    "    \n",
    "    y0 is assumed to be either a constant or a one-dimensional numpy array.\n",
    "    t and t0 are assumed to be constants.\n",
    "    f is assumed to accept three arguments.\n",
    "    The first is a constant giving the value of t.\n",
    "    The second is a one-dimensional numpy array of the same size as y.\n",
    "    The third is an index to the other arrays.\n",
    "    \n",
    "    This function returns an array Y of shape (n,) if\n",
    "    y is a constant or an array of size 1.\n",
    "    It returns an array of shape (n, y.size) otherwise.\n",
    "    In either case, Y[i] is the approximate value of y at\n",
    "    the i'th value of np.linspace(t0, t, n).\n",
    "    \"\"\"\n",
    "    Y,T,h = initialize_all(y0,t0,t,n)\n",
    "    for i in range(n-1):\n",
    "        K1 = f(T[i],Y[i],i)\n",
    "        K2 = f(T[i]+h/2.,Y[i]+h/2.*K1,i)\n",
    "        K3 = f(T[i]+h/2.,Y[i]+h/2.*K2,i)\n",
    "        K4 = f(T[i+1],Y[i]+h*K3,i)\n",
    "        Y[i+1] = Y[i] + h/6.*(K1+2*K2 +2*K3+K4)\n",
    "    return Y"
   ]
  },
  {
   "cell_type": "markdown",
   "metadata": {},
   "source": [
    "## Problem 1"
   ]
  },
  {
   "cell_type": "code",
   "execution_count": 4,
   "metadata": {},
   "outputs": [],
   "source": [
    "# Parameters\n",
    "a1, a2 = 0, 0\n",
    "b1, b2 = 0.02, 0.9\n",
    "s1, s2 = 2., 1.5\n",
    "mu = 0.002\n",
    "k = 0.000025\n",
    "g = 30.\n",
    "c = 0.007\n",
    "B1, B2 = 14, 1\n",
    "A1, A2 = 250000, 75\n",
    "T0, V0 = 400, 3\n",
    "tf = 50\n",
    "n = 1000"
   ]
  },
  {
   "cell_type": "code",
   "execution_count": 5,
   "metadata": {},
   "outputs": [],
   "source": [
    "# initialize global variables, state, costate, and u.\n",
    "state = np.zeros((n,2))\n",
    "state0 = np.array([T0, V0])\n",
    "\n",
    "costate = np.zeros((n,2))\n",
    "costate0 = np.zeros(2)\n",
    "\n",
    "u = np.zeros((n,2))\n",
    "u[:,0] += .02\n",
    "u[:,1] += .9"
   ]
  },
  {
   "cell_type": "code",
   "execution_count": 6,
   "metadata": {},
   "outputs": [],
   "source": [
    "# define state equations\n",
    "def state_equations(t,y,i):\n",
    "    '''\n",
    "    Parameters\n",
    "    ---------------\n",
    "    t : float\n",
    "        the time\n",
    "    y : ndarray (2,)\n",
    "        the T cell concentration and the Virus concentration at time t\n",
    "    i : int\n",
    "        index for the global variable u.\n",
    "    \n",
    "    Returns\n",
    "    --------------\n",
    "    y_dot : ndarray (2,)\n",
    "        the derivative of the T cell concentration and the virus concentration at time t\n",
    "    '''\n",
    "    # Define notation locally\n",
    "    T = y[0]\n",
    "    V = y[1]\n",
    "    u1 = u[i,0]\n",
    "    u2 = u[i,1]\n",
    "    \n",
    "    # return the function defining the dynamic system\n",
    "    return np.array([s1 - ((s2*V)/(B1 + V)) - mu*T - k*V*T + u1*T, \n",
    "                       g*V*(1 - u2)/(B2 + V) - c*V*T])"
   ]
  },
  {
   "cell_type": "code",
   "execution_count": 7,
   "metadata": {},
   "outputs": [
    {
     "name": "stdout",
     "output_type": "stream",
     "text": [
      "[[4.00000000e+02 3.00000000e+00]\n",
      " [4.00446527e+02 2.71118869e+00]\n",
      " [4.00894611e+02 2.45703339e+00]\n",
      " ...\n",
      " [1.14309199e+03 8.07050046e-46]\n",
      " [1.14422241e+03 6.28204218e-46]\n",
      " [1.14535385e+03 4.88797740e-46]]\n"
     ]
    }
   ],
   "source": [
    "print(RK4(state_equations, state0, 0, tf, n))"
   ]
  },
  {
   "cell_type": "markdown",
   "metadata": {},
   "source": [
    "## Problem 2"
   ]
  },
  {
   "cell_type": "code",
   "execution_count": 8,
   "metadata": {},
   "outputs": [],
   "source": [
    "def lambda_hat(t,y,i):\n",
    "    '''\n",
    "    Parameters\n",
    "    ---------------\n",
    "    t : float\n",
    "        the time\n",
    "    y : ndarray (2,)\n",
    "        the lambda_hat values at time t\n",
    "    i : int\n",
    "        index for global variables, u and state.\n",
    "        \n",
    "    Returns\n",
    "    --------------\n",
    "    y_dot : ndarray (2,)\n",
    "        the derivative of the lambda_hats at time t.\n",
    "    '''\n",
    "    # Define notation locally\n",
    "    lmbda1 = y[0]\n",
    "    lmbda2 = y[1]\n",
    "    T = state[n-1-i,0]\n",
    "    V = state[n-1-i,1]\n",
    "    u1 = u[n-1-i,0]\n",
    "    u2 = u[n-1-i,1]\n",
    "    \n",
    "    # return the derivative of lambda hat\n",
    "    return np.array([lmbda1*(-mu - k*V + u1) - c*lmbda2*V - 1, \n",
    "                     -lmbda1*(s2*B2/((B1 + V)**2) + k*T) + lmbda2*(g*B2*(1 - u2)/((B2 + V)**2) - c*T)])"
   ]
  },
  {
   "cell_type": "code",
   "execution_count": 10,
   "metadata": {},
   "outputs": [
    {
     "name": "stdout",
     "output_type": "stream",
     "text": [
      "[[ 0.00000000e+00  0.00000000e+00]\n",
      " [-5.00726019e-02  1.00862381e-05]\n",
      " [-1.00190335e-01  4.25099166e-05]\n",
      " ...\n",
      " [-8.08430769e+01  8.82504183e+61]\n",
      " [-8.09660139e+01  1.02547697e+62]\n",
      " [-8.10890617e+01  1.19161249e+62]]\n"
     ]
    }
   ],
   "source": [
    "print(RK4(lambda_hat,costate0,0,tf,n))"
   ]
  },
  {
   "cell_type": "markdown",
   "metadata": {},
   "source": [
    "## Problem 3"
   ]
  },
  {
   "cell_type": "code",
   "execution_count": 12,
   "metadata": {},
   "outputs": [],
   "source": [
    "epsilon = 0.001\n",
    "test = epsilon + 1\n",
    "\n",
    "while(test > epsilon):\n",
    "    oldu = u.copy()\n",
    "    \n",
    "    #solve the state equations with forward iteration\n",
    "    state = RK4(state_equations,state0,0,tf,n)\n",
    "    \n",
    "    #solve the costate equations with backwards iteration\n",
    "    costate = RK4(lambda_hat,costate0,0,tf,n)[::-1]\n",
    "    \n",
    "    #solve for u1 and u2\n",
    "    Tstar = state[:,0]\n",
    "    Vstar = state[:,1]\n",
    "    lmbda1 = costate[:,0]\n",
    "    lmbda2 = costate[:,1]\n",
    "    one_s = np.ones(lmbda1.shape[0])\n",
    "    u1 = np.minimum(one_s*b1,np.maximum(one_s*a1,(-.5/A1)*lmbda1*Tstar))\n",
    "    u2 = np.minimum(one_s*b2,np.maximum(one_s*a2,(lmbda2/(2*A2))*(g*Vstar/(B2+Vstar))))\n",
    "    \n",
    "    #update control\n",
    "    u[:,0] = 0.5*(u1 + oldu[:,0])\n",
    "    u[:,1] = 0.5*(u2 + oldu[:,1])\n",
    "    \n",
    "    #test for convergence\n",
    "    test = abs(oldu - u).sum()"
   ]
  },
  {
   "cell_type": "code",
   "execution_count": 13,
   "metadata": {},
   "outputs": [
    {
     "data": {
      "image/png": "[encoded data removed]",
      "text/plain": [
       "<matplotlib.figure.Figure at 0x7ff19fdc0518>"
      ]
     },
     "metadata": {},
     "output_type": "display_data"
    }
   ],
   "source": [
    "# Plot the graphs\n",
    "plt.figure(figsize=(14,12))\n",
    "time = np.linspace(0,50,state.shape[0])\n",
    "\n",
    "plt.subplot(221)\n",
    "plt.ylim(400,1100)\n",
    "plt.xlim(0,50)\n",
    "plt.ylabel('T')\n",
    "plt.plot(time,state[:,0])\n",
    "\n",
    "plt.subplot(222)\n",
    "plt.xlim(0,50)\n",
    "plt.ylabel(\"V\")\n",
    "plt.plot(time,state[:,1])\n",
    "\n",
    "plt.subplot(223)\n",
    "plt.ylim(0,0.022)\n",
    "plt.xlim(0,50)\n",
    "plt.ylabel('u1')\n",
    "plt.xlabel('Days')\n",
    "plt.plot(time,u[:,0])\n",
    "\n",
    "plt.subplot(224)\n",
    "plt.xlim(0,50)\n",
    "plt.ylabel('u2')\n",
    "plt.xlabel('Days')\n",
    "plt.plot(time,u[:,1])\n",
    "\n",
    "plt.show()"
   ]
  },
  {
   "cell_type": "code",
   "execution_count": null,
   "metadata": {},
   "outputs": [],
   "source": []
  }
 ],
 "metadata": {
  "kernelspec": {
   "display_name": "Python 3",
   "language": "python",
   "name": "python3"
  },
  "language_info": {
   "codemirror_mode": {
    "name": "ipython",
    "version": 3
   },
   "file_extension": ".py",
   "mimetype": "text/x-python",
   "name": "python",
   "nbconvert_exporter": "python",
   "pygments_lexer": "ipython3",
   "version": "3.6.4"
  }
 },
 "nbformat": 4,
 "nbformat_minor": 2
}
