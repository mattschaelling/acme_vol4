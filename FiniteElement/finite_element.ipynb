{
 "cells": [
  {
   "cell_type": "code",
   "execution_count": 1,
   "metadata": {
    "collapsed": true
   },
   "outputs": [],
   "source": [
    "import numpy as np\n",
    "import matplotlib.pyplot as plt\n",
    "import scipy.linalg as la\n",
    "%matplotlib inline"
   ]
  },
  {
   "cell_type": "markdown",
   "metadata": {},
   "source": [
    "# Problem 1"
   ]
  },
  {
   "cell_type": "code",
   "execution_count": 2,
   "metadata": {},
   "outputs": [
    {
     "data": {
      "image/png": "[encoded data removed]",
      "text/plain": [
       "<matplotlib.figure.Figure at 0x7f5504957be0>"
      ]
     },
     "metadata": {},
     "output_type": "display_data"
    }
   ],
   "source": [
    "# define function u, domain, stepsize\n",
    "u = lambda x: np.sin((x + np.pi)**2 - 1)\n",
    "a,b,n = 0,1,10\n",
    "x = np.linspace(a,b,n+1)\n",
    "h = x[1] - x[0]\n",
    "uX = u(x)\n",
    "\n",
    "# calculating the first derivative\n",
    "diag = np.diag(np.ones(n-2), 1) + np.diag(np.ones(n-2)*-1, -1)\n",
    "adjust = np.zeros(n-1)\n",
    "adjust[0] = -1*uX[0]/(2*h)\n",
    "adjust[-1] = uX[-1]/(2*h)\n",
    "uprime = (1./(2*h))*diag@uX[1:-1] + adjust\n",
    "\n",
    "# calculating the second derivative\n",
    "diag = diag + np.diag(np.ones(n-1)*-2) + np.diag(np.ones(n-2)*2, -1)\n",
    "adjust[0] = -1*adjust[0]\n",
    "adjust = adjust * 2 * (1./h)\n",
    "udoubleprime = (1./(h**2))*diag@uX[1:-1] + adjust\n",
    "\n",
    "# plot that lil fella\n",
    "plt.plot(x[1:-1], .5*udoubleprime - uprime)\n",
    "plt.rc('text', usetex=True)\n",
    "plt.title(r\"$\\frac{1}{2}u'' - u'$\")\n",
    "plt.xlabel(r'$x$')\n",
    "plt.rc('text', usetex=False)\n",
    "plt.show()"
   ]
  },
  {
   "cell_type": "markdown",
   "metadata": {},
   "source": [
    "# Problem 2"
   ]
  },
  {
   "cell_type": "code",
   "execution_count": 3,
   "metadata": {},
   "outputs": [
    {
     "data": {
      "image/png": "[encoded data removed]",
      "text/plain": [
       "<matplotlib.figure.Figure at 0x7f54dee26278>"
      ]
     },
     "metadata": {},
     "output_type": "display_data"
    }
   ],
   "source": [
    "# eps*u\" - u' = f(x) := -1 for x in (0,1)\n",
    "alpha, beta, epsilon = 1, 3, .1\n",
    "a,b,n = 0,1,10\n",
    "x = np.linspace(a,b,n+1)\n",
    "h = x[1] - x[0]\n",
    "\n",
    "diag = np.diag(np.ones(n-2),1)*(epsilon - .5*h) \\\n",
    "        + np.diag(np.ones(n-1))*-2*epsilon \\\n",
    "        + np.diag(np.ones(n-2),-1)*(epsilon + .5*h)\n",
    "diag = diag*(1./(h**2))\n",
    "b = np.ones(n-1)*-1\n",
    "b[0] = b[0] - alpha*((epsilon + h*.5)/(h**2))\n",
    "b[-1] = b[-1] - beta*((epsilon - h*.5)/(h**2))\n",
    "Usub = la.solve(diag, b)\n",
    "U = np.ones(n+1)\n",
    "U[1:-1] = Usub\n",
    "U[0] = alpha\n",
    "U[-1] = beta\n",
    "\n",
    "plt.plot(x, U)\n",
    "plt.rc('text', usetex=True)\n",
    "plt.title(r\"Numerical Solution to $.1u''(x) - u'(x) = -1$\")\n",
    "plt.xlabel(r'$x$')\n",
    "plt.ylabel(r'$u$')\n",
    "plt.rc('text', usetex=False)\n",
    "plt.plot()\n",
    "plt.show()"
   ]
  },
  {
   "cell_type": "code",
   "execution_count": 4,
   "metadata": {},
   "outputs": [
    {
     "ename": "TypeError",
     "evalue": "'int' object is not subscriptable",
     "output_type": "error",
     "traceback": [
      "\u001b[0;31m---------------------------------------------------------------------------\u001b[0m",
      "\u001b[0;31mTypeError\u001b[0m                                 Traceback (most recent call last)",
      "\u001b[0;32m<ipython-input-4-867c611c8887>\u001b[0m in \u001b[0;36m<module>\u001b[0;34m()\u001b[0m\n\u001b[1;32m     25\u001b[0m \u001b[0mnum_sol_best\u001b[0m \u001b[0;34m=\u001b[0m \u001b[0mbvp\u001b[0m\u001b[0;34m(\u001b[0m\u001b[0mf\u001b[0m\u001b[0;34m,\u001b[0m \u001b[0mepsilon\u001b[0m\u001b[0;34m=\u001b[0m\u001b[0;36m.1\u001b[0m\u001b[0;34m,\u001b[0m \u001b[0malpha\u001b[0m\u001b[0;34m=\u001b[0m\u001b[0;36m1\u001b[0m\u001b[0;34m,\u001b[0m \u001b[0mbeta\u001b[0m\u001b[0;34m=\u001b[0m\u001b[0;36m3\u001b[0m\u001b[0;34m,\u001b[0m \u001b[0mN\u001b[0m\u001b[0;34m=\u001b[0m\u001b[0mN\u001b[0m\u001b[0;34m[\u001b[0m\u001b[0;34m-\u001b[0m\u001b[0;36m1\u001b[0m\u001b[0;34m]\u001b[0m\u001b[0;34m)\u001b[0m\u001b[0;34m\u001b[0m\u001b[0m\n\u001b[1;32m     26\u001b[0m \u001b[0;32mfor\u001b[0m \u001b[0mj\u001b[0m \u001b[0;32min\u001b[0m \u001b[0mrange\u001b[0m\u001b[0;34m(\u001b[0m\u001b[0mlen\u001b[0m\u001b[0;34m(\u001b[0m\u001b[0mN\u001b[0m\u001b[0;34m)\u001b[0m\u001b[0;34m-\u001b[0m\u001b[0;36m1\u001b[0m\u001b[0;34m)\u001b[0m\u001b[0;34m:\u001b[0m\u001b[0;34m\u001b[0m\u001b[0m\n\u001b[0;32m---> 27\u001b[0;31m     \u001b[0mnum_sol\u001b[0m \u001b[0;34m=\u001b[0m \u001b[0mbvp\u001b[0m\u001b[0;34m(\u001b[0m\u001b[0;32mlambda\u001b[0m \u001b[0mx\u001b[0m\u001b[0;34m:\u001b[0m\u001b[0;34m-\u001b[0m\u001b[0;36m1\u001b[0m\u001b[0;34m,\u001b[0m \u001b[0mepsilon\u001b[0m\u001b[0;34m=\u001b[0m\u001b[0;36m.1\u001b[0m\u001b[0;34m,\u001b[0m \u001b[0malpha\u001b[0m\u001b[0;34m=\u001b[0m\u001b[0;36m1\u001b[0m\u001b[0;34m,\u001b[0m \u001b[0mbeta\u001b[0m\u001b[0;34m=\u001b[0m\u001b[0;36m3\u001b[0m\u001b[0;34m,\u001b[0m \u001b[0mN\u001b[0m\u001b[0;34m=\u001b[0m\u001b[0mN\u001b[0m\u001b[0;34m[\u001b[0m\u001b[0mj\u001b[0m\u001b[0;34m]\u001b[0m\u001b[0;34m)\u001b[0m\u001b[0;34m\u001b[0m\u001b[0m\n\u001b[0m\u001b[1;32m     28\u001b[0m     \u001b[0mmax_error\u001b[0m\u001b[0;34m[\u001b[0m\u001b[0mj\u001b[0m\u001b[0;34m]\u001b[0m \u001b[0;34m=\u001b[0m \u001b[0mnp\u001b[0m\u001b[0;34m.\u001b[0m\u001b[0mmax\u001b[0m\u001b[0;34m(\u001b[0m\u001b[0mnp\u001b[0m\u001b[0;34m.\u001b[0m\u001b[0mabs\u001b[0m\u001b[0;34m(\u001b[0m\u001b[0mnum_sol\u001b[0m\u001b[0;34m-\u001b[0m\u001b[0mnum_sol_best\u001b[0m\u001b[0;34m[\u001b[0m\u001b[0;34m:\u001b[0m\u001b[0;34m:\u001b[0m\u001b[0;36m2\u001b[0m\u001b[0;34m**\u001b[0m\u001b[0;34m(\u001b[0m\u001b[0mnum_approx\u001b[0m\u001b[0;34m-\u001b[0m\u001b[0mj\u001b[0m\u001b[0;34m-\u001b[0m\u001b[0;36m1\u001b[0m\u001b[0;34m)\u001b[0m\u001b[0;34m]\u001b[0m\u001b[0;34m)\u001b[0m\u001b[0;34m)\u001b[0m\u001b[0;34m\u001b[0m\u001b[0m\n\u001b[1;32m     29\u001b[0m \u001b[0mplt\u001b[0m\u001b[0;34m.\u001b[0m\u001b[0mloglog\u001b[0m\u001b[0;34m(\u001b[0m\u001b[0mh\u001b[0m\u001b[0;34m,\u001b[0m\u001b[0mmax_error\u001b[0m\u001b[0;34m,\u001b[0m\u001b[0;34m'.-r'\u001b[0m\u001b[0;34m,\u001b[0m\u001b[0mlabel\u001b[0m\u001b[0;34m=\u001b[0m\u001b[0;34m\"$E(h)$\"\u001b[0m\u001b[0;34m)\u001b[0m\u001b[0;34m\u001b[0m\u001b[0m\n",
      "\u001b[0;32m<ipython-input-4-867c611c8887>\u001b[0m in \u001b[0;36mbvp\u001b[0;34m(func, epsilon, alpha, beta, N)\u001b[0m\n\u001b[1;32m      6\u001b[0m     \u001b[0mdiag\u001b[0m \u001b[0;34m=\u001b[0m \u001b[0mdiag\u001b[0m\u001b[0;34m*\u001b[0m\u001b[0;34m(\u001b[0m\u001b[0;36m1.\u001b[0m\u001b[0;34m/\u001b[0m\u001b[0;34m(\u001b[0m\u001b[0mh\u001b[0m\u001b[0;34m**\u001b[0m\u001b[0;36m2\u001b[0m\u001b[0;34m)\u001b[0m\u001b[0;34m)\u001b[0m\u001b[0;34m\u001b[0m\u001b[0m\n\u001b[1;32m      7\u001b[0m     \u001b[0mb\u001b[0m \u001b[0;34m=\u001b[0m \u001b[0mfunc\u001b[0m\u001b[0;34m(\u001b[0m\u001b[0mx\u001b[0m\u001b[0;34m[\u001b[0m\u001b[0;36m1\u001b[0m\u001b[0;34m:\u001b[0m\u001b[0;34m-\u001b[0m\u001b[0;36m1\u001b[0m\u001b[0;34m]\u001b[0m\u001b[0;34m)\u001b[0m\u001b[0;34m\u001b[0m\u001b[0m\n\u001b[0;32m----> 8\u001b[0;31m     \u001b[0mb\u001b[0m\u001b[0;34m[\u001b[0m\u001b[0;36m0\u001b[0m\u001b[0;34m]\u001b[0m \u001b[0;34m=\u001b[0m \u001b[0mb\u001b[0m\u001b[0;34m[\u001b[0m\u001b[0;36m0\u001b[0m\u001b[0;34m]\u001b[0m \u001b[0;34m-\u001b[0m \u001b[0malpha\u001b[0m\u001b[0;34m*\u001b[0m\u001b[0;34m(\u001b[0m\u001b[0;34m(\u001b[0m\u001b[0mepsilon\u001b[0m \u001b[0;34m+\u001b[0m \u001b[0mh\u001b[0m\u001b[0;34m*\u001b[0m\u001b[0;36m.5\u001b[0m\u001b[0;34m)\u001b[0m\u001b[0;34m/\u001b[0m\u001b[0;34m(\u001b[0m\u001b[0mh\u001b[0m\u001b[0;34m**\u001b[0m\u001b[0;36m2\u001b[0m\u001b[0;34m)\u001b[0m\u001b[0;34m)\u001b[0m\u001b[0;34m\u001b[0m\u001b[0m\n\u001b[0m\u001b[1;32m      9\u001b[0m     \u001b[0mb\u001b[0m\u001b[0;34m[\u001b[0m\u001b[0;34m-\u001b[0m\u001b[0;36m1\u001b[0m\u001b[0;34m]\u001b[0m \u001b[0;34m=\u001b[0m \u001b[0mb\u001b[0m\u001b[0;34m[\u001b[0m\u001b[0;34m-\u001b[0m\u001b[0;36m1\u001b[0m\u001b[0;34m]\u001b[0m \u001b[0;34m-\u001b[0m \u001b[0mbeta\u001b[0m\u001b[0;34m*\u001b[0m\u001b[0;34m(\u001b[0m\u001b[0;34m(\u001b[0m\u001b[0mepsilon\u001b[0m \u001b[0;34m-\u001b[0m \u001b[0mh\u001b[0m\u001b[0;34m*\u001b[0m\u001b[0;36m.5\u001b[0m\u001b[0;34m)\u001b[0m\u001b[0;34m/\u001b[0m\u001b[0;34m(\u001b[0m\u001b[0mh\u001b[0m\u001b[0;34m**\u001b[0m\u001b[0;36m2\u001b[0m\u001b[0;34m)\u001b[0m\u001b[0;34m)\u001b[0m\u001b[0;34m\u001b[0m\u001b[0m\n\u001b[1;32m     10\u001b[0m     \u001b[0mUinterior\u001b[0m \u001b[0;34m=\u001b[0m \u001b[0mla\u001b[0m\u001b[0;34m.\u001b[0m\u001b[0msolve\u001b[0m\u001b[0;34m(\u001b[0m\u001b[0mdiag\u001b[0m\u001b[0;34m,\u001b[0m \u001b[0mb\u001b[0m\u001b[0;34m)\u001b[0m\u001b[0;34m\u001b[0m\u001b[0m\n",
      "\u001b[0;31mTypeError\u001b[0m: 'int' object is not subscriptable"
     ]
    }
   ],
   "source": [
    "def bvp(func, epsilon, alpha, beta, N):\n",
    "    a,b,n = 0, 1, N\n",
    "    x = np.linspace(a,b,n+1)\n",
    "    h = x[1] - x[0]\n",
    "    diag = np.diag(np.ones(n-2),1)*(epsilon - .5*h) \\\n",
    "            + np.diag(np.ones(n-1))*-2*epsilon \\\n",
    "            + np.diag(np.ones(n-2),-1)*(epsilon + .5*h)\n",
    "    diag = diag*(1./(h**2))\n",
    "    b = func(x[1:-1])\n",
    "    b[0] = b[0] - alpha*((epsilon + h*.5)/(h**2))\n",
    "    b[-1] = b[-1] - beta*((epsilon - h*.5)/(h**2))\n",
    "    Uinterior = la.solve(diag, b)\n",
    "    U = np.ones(n+1)\n",
    "    U[1:-1] = Uinterior\n",
    "    U[0] = alpha\n",
    "    U[-1] = beta\n",
    "    return U\n",
    "\n",
    "num_approx = 10 # Number of Approximations\n",
    "N = 5*np.array([2**j for j in range(num_approx)])\n",
    "h, max_error = (1.-0)/N[:-1], np.ones(num_approx-1)\n",
    "\n",
    "# Best numerical solution, used to approximate the true solution.\n",
    "# bvp returns the grid, and the grid function, approximating the solution\n",
    "# with N subintervals of equal length.\n",
    "f = lambda x: np.ones_like(x)*-1\n",
    "num_sol_best = bvp(f, epsilon=.1, alpha=1, beta=3, N=N[-1])\n",
    "for j in range(len(N)-1):\n",
    "    num_sol = bvp(lambda x:-1, epsilon=.1, alpha=1, beta=3, N=N[j])\n",
    "    max_error[j] = np.max(np.abs(num_sol-num_sol_best[::2**(num_approx-j-1)]))\n",
    "plt.loglog(h,max_error,'.-r',label=\"$E(h)$\")\n",
    "plt.loglog(h,h**(2.),'-k',label=\"$h^{\\, 2}$\")\n",
    "plt.xlabel(\"$h$\")\n",
    "plt.legend(loc='best')\n",
    "plt.show()\n",
    "print(\"The order of the finite difference approximation is about \",\n",
    "      (np.log(max_error[0])-np.log(max_error[-1]))/(np.log(h[0])-np.log(h[-1])),\n",
    "      \".\")"
   ]
  },
  {
   "cell_type": "code",
   "execution_count": null,
   "metadata": {
    "collapsed": true
   },
   "outputs": [],
   "source": []
  }
 ],
 "metadata": {
  "kernelspec": {
   "display_name": "Python 3",
   "language": "python",
   "name": "python3"
  },
  "language_info": {
   "codemirror_mode": {
    "name": "ipython",
    "version": 3
   },
   "file_extension": ".py",
   "mimetype": "text/x-python",
   "name": "python",
   "nbconvert_exporter": "python",
   "pygments_lexer": "ipython3",
   "version": "3.6.1"
  }
 },
 "nbformat": 4,
 "nbformat_minor": 2
}
